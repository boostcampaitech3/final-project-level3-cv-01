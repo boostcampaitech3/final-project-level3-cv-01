{
 "cells": [
  {
   "cell_type": "markdown",
   "id": "8179c4a4-fb62-42dc-adc2-03759fe1c0a0",
   "metadata": {
    "tags": []
   },
   "source": [
    "# 비정상 데이터 EDA ( 원본 )"
   ]
  },
  {
   "cell_type": "code",
   "execution_count": 11,
   "id": "ec290210-e4c3-4feb-981b-71325022e485",
   "metadata": {},
   "outputs": [],
   "source": [
    "import json\n",
    "import os\n",
    "import pandas as pd\n",
    "\n",
    "\n",
    "\n",
    "json_file_pathes = '/opt/ml/input/Project/data/Validation/label' # label json 폴더 경로\n",
    "json_file_names = os.listdir(json_file_pathes)\n",
    "\n",
    "meta_data = []\n",
    "\n",
    "\n",
    "for file in json_file_names:\n",
    "    with open(os.path.join(json_file_pathes,file)) as f:\n",
    "        json_object = json.load(f)\n",
    "    \n",
    "    fname = json_object['description']['image']\n",
    "    disease = json_object['annotations']['disease']\n",
    "    grow = json_object['annotations']['grow']\n",
    "    risk = json_object['annotations']['risk']\n",
    "    \n",
    "    meta_data.append([fname,disease,grow,risk])\n",
    "\n",
    "df = pd.DataFrame(meta_data,\n",
    "                        columns = ['image_name','disease','grow','risk'])\n",
    "    "
   ]
  },
  {
   "cell_type": "code",
   "execution_count": 12,
   "id": "af7995db-9a24-4a42-96e7-ea7aa32824fb",
   "metadata": {},
   "outputs": [
    {
     "data": {
      "text/html": [
       "<div>\n",
       "<style scoped>\n",
       "    .dataframe tbody tr th:only-of-type {\n",
       "        vertical-align: middle;\n",
       "    }\n",
       "\n",
       "    .dataframe tbody tr th {\n",
       "        vertical-align: top;\n",
       "    }\n",
       "\n",
       "    .dataframe thead th {\n",
       "        text-align: right;\n",
       "    }\n",
       "</style>\n",
       "<table border=\"1\" class=\"dataframe\">\n",
       "  <thead>\n",
       "    <tr style=\"text-align: right;\">\n",
       "      <th></th>\n",
       "      <th>image_name</th>\n",
       "      <th>disease</th>\n",
       "      <th>grow</th>\n",
       "      <th>risk</th>\n",
       "    </tr>\n",
       "  </thead>\n",
       "  <tbody>\n",
       "    <tr>\n",
       "      <th>0</th>\n",
       "      <td>V006_79_0_00_03_03_12_0_c31_20201113_0327_S01_...</td>\n",
       "      <td>0</td>\n",
       "      <td>12</td>\n",
       "      <td>0</td>\n",
       "    </tr>\n",
       "    <tr>\n",
       "      <th>1</th>\n",
       "      <td>V006_79_1_05_03_03_12_2_5123y_20201118_77_a000...</td>\n",
       "      <td>5</td>\n",
       "      <td>12</td>\n",
       "      <td>2</td>\n",
       "    </tr>\n",
       "    <tr>\n",
       "      <th>2</th>\n",
       "      <td>V006_79_1_06_03_03_12_1_9237r_20201014_10_b000...</td>\n",
       "      <td>6</td>\n",
       "      <td>12</td>\n",
       "      <td>1</td>\n",
       "    </tr>\n",
       "    <tr>\n",
       "      <th>3</th>\n",
       "      <td>V006_79_0_00_03_03_12_0_b06_20201109_0007_S01_...</td>\n",
       "      <td>0</td>\n",
       "      <td>12</td>\n",
       "      <td>0</td>\n",
       "    </tr>\n",
       "    <tr>\n",
       "      <th>4</th>\n",
       "      <td>V006_79_1_05_03_03_12_1_1299b_20201029_2_b0003...</td>\n",
       "      <td>5</td>\n",
       "      <td>12</td>\n",
       "      <td>1</td>\n",
       "    </tr>\n",
       "  </tbody>\n",
       "</table>\n",
       "</div>"
      ],
      "text/plain": [
       "                                          image_name  disease  grow  risk\n",
       "0  V006_79_0_00_03_03_12_0_c31_20201113_0327_S01_...        0    12     0\n",
       "1  V006_79_1_05_03_03_12_2_5123y_20201118_77_a000...        5    12     2\n",
       "2  V006_79_1_06_03_03_12_1_9237r_20201014_10_b000...        6    12     1\n",
       "3  V006_79_0_00_03_03_12_0_b06_20201109_0007_S01_...        0    12     0\n",
       "4  V006_79_1_05_03_03_12_1_1299b_20201029_2_b0003...        5    12     1"
      ]
     },
     "execution_count": 12,
     "metadata": {},
     "output_type": "execute_result"
    }
   ],
   "source": [
    "df.head(5)"
   ]
  },
  {
   "cell_type": "markdown",
   "id": "d85a7303-ea6f-459f-b48b-2ebd90c5812d",
   "metadata": {
    "tags": []
   },
   "source": [
    "## 총 데이터 수"
   ]
  },
  {
   "cell_type": "code",
   "execution_count": 13,
   "id": "efa38c09-f6a7-4085-ae71-480f71c6fa3a",
   "metadata": {},
   "outputs": [
    {
     "data": {
      "text/plain": [
       "(3535, 4)"
      ]
     },
     "execution_count": 13,
     "metadata": {},
     "output_type": "execute_result"
    }
   ],
   "source": [
    "df.shape"
   ]
  },
  {
   "cell_type": "markdown",
   "id": "70972237-3e4d-4c33-9be3-161035dd5545",
   "metadata": {
    "tags": []
   },
   "source": [
    "## 질병 분포 (5 : 배추검음썩음병 , 6 : 배추노균병)"
   ]
  },
  {
   "cell_type": "code",
   "execution_count": 14,
   "id": "27d8f5c8-8c50-4564-9080-94a61164a5e9",
   "metadata": {},
   "outputs": [
    {
     "data": {
      "text/plain": [
       "<AxesSubplot:xlabel='disease', ylabel='disease'>"
      ]
     },
     "execution_count": 14,
     "metadata": {},
     "output_type": "execute_result"
    },
    {
     "data": {
      "image/png": "[encoded data removed]",
      "text/plain": [
       "<Figure size 864x432 with 1 Axes>"
      ]
     },
     "metadata": {},
     "output_type": "display_data"
    }
   ],
   "source": [
    "import matplotlib.pyplot as plt\n",
    "import seaborn as sns\n",
    "\n",
    "sns.set(rc = {'figure.figsize':(12,6)})\n",
    "\n",
    "sns.barplot(data=df,\n",
    "  x=\"disease\",\n",
    "  y=\"disease\",\n",
    "  estimator=len)\n",
    "\n"
   ]
  },
  {
   "cell_type": "markdown",
   "id": "ce9ac389-e016-43bb-aeee-c01a98037dbe",
   "metadata": {
    "tags": []
   },
   "source": [
    "## 생육단계 분포 (11 : 육묘기 , 12 : 생장기 , 13 : 착화/과실기)"
   ]
  },
  {
   "cell_type": "code",
   "execution_count": 15,
   "id": "fd4279d7-e213-4940-9b3a-04cbd2f32224",
   "metadata": {},
   "outputs": [
    {
     "data": {
      "text/plain": [
       "<AxesSubplot:xlabel='grow', ylabel='grow'>"
      ]
     },
     "execution_count": 15,
     "metadata": {},
     "output_type": "execute_result"
    },
    {
     "data": {
      "image/png": "[encoded data removed]",
      "text/plain": [
       "<Figure size 864x432 with 1 Axes>"
      ]
     },
     "metadata": {},
     "output_type": "display_data"
    }
   ],
   "source": [
    "sns.barplot(data=df,\n",
    "  x=\"grow\",\n",
    "  y=\"grow\",\n",
    "  estimator=len)"
   ]
  },
  {
   "cell_type": "markdown",
   "id": "43d2df42-e420-484d-bc38-c44aaf8d0b9f",
   "metadata": {
    "tags": []
   },
   "source": [
    "## 질병 피해 정도 분포 ( 0 : 정상 , 1 : 초기 , 2 : 중기 , 3 : 말기 )"
   ]
  },
  {
   "cell_type": "code",
   "execution_count": 16,
   "id": "ca1c3c40-8d74-4b7e-8f90-e02340a8b91f",
   "metadata": {},
   "outputs": [
    {
     "data": {
      "text/plain": [
       "<AxesSubplot:xlabel='risk', ylabel='risk'>"
      ]
     },
     "execution_count": 16,
     "metadata": {},
     "output_type": "execute_result"
    },
    {
     "data": {
      "image/png": "[encoded data removed]",
      "text/plain": [
       "<Figure size 864x432 with 1 Axes>"
      ]
     },
     "metadata": {},
     "output_type": "display_data"
    }
   ],
   "source": [
    "sns.barplot(data=df,\n",
    "  x=\"risk\",\n",
    "  y=\"risk\",\n",
    "  estimator=len)"
   ]
  },
  {
   "cell_type": "markdown",
   "id": "e804ddb1-b84d-40a4-88d9-3c18831b0fed",
   "metadata": {
    "jp-MarkdownHeadingCollapsed": true,
    "tags": []
   },
   "source": [
    "# 정상 데이터 EDA ( 원본 )"
   ]
  },
  {
   "cell_type": "code",
   "execution_count": 31,
   "id": "6c6c9699-19e4-471f-9045-8e75cd11d3d6",
   "metadata": {},
   "outputs": [],
   "source": [
    "import json\n",
    "import os\n",
    "import pandas as pd\n",
    "\n",
    "\n",
    "\n",
    "json_file_pathes = '/opt/ml/input/project/data/Training/label_normal' # label json 폴더 경로\n",
    "json_file_names = os.listdir(json_file_pathes)\n",
    "\n",
    "meta_data = []\n",
    "\n",
    "\n",
    "for file in json_file_names:\n",
    "    with open(os.path.join(json_file_pathes,file)) as f:\n",
    "        json_object = json.load(f)\n",
    "    \n",
    "    fname = json_object['description']['image']\n",
    "    disease = json_object['annotations']['disease']\n",
    "    grow = json_object['annotations']['grow']\n",
    "    risk = json_object['annotations']['risk']\n",
    "    \n",
    "    meta_data.append([fname,disease,grow,risk])\n",
    "\n",
    "df = pd.DataFrame(meta_data,\n",
    "                        columns = ['image_name','disease','grow','risk'])"
   ]
  },
  {
   "cell_type": "code",
   "execution_count": 32,
   "id": "80060f85-9d69-4244-b74b-711a776eb9f3",
   "metadata": {},
   "outputs": [
    {
     "data": {
      "text/html": [
       "<div>\n",
       "<style scoped>\n",
       "    .dataframe tbody tr th:only-of-type {\n",
       "        vertical-align: middle;\n",
       "    }\n",
       "\n",
       "    .dataframe tbody tr th {\n",
       "        vertical-align: top;\n",
       "    }\n",
       "\n",
       "    .dataframe thead th {\n",
       "        text-align: right;\n",
       "    }\n",
       "</style>\n",
       "<table border=\"1\" class=\"dataframe\">\n",
       "  <thead>\n",
       "    <tr style=\"text-align: right;\">\n",
       "      <th></th>\n",
       "      <th>image_name</th>\n",
       "      <th>disease</th>\n",
       "      <th>grow</th>\n",
       "      <th>risk</th>\n",
       "    </tr>\n",
       "  </thead>\n",
       "  <tbody>\n",
       "    <tr>\n",
       "      <th>0</th>\n",
       "      <td>V006_79_0_00_03_03_12_0_c31_20201117_0392_S01_...</td>\n",
       "      <td>0</td>\n",
       "      <td>12</td>\n",
       "      <td>0</td>\n",
       "    </tr>\n",
       "    <tr>\n",
       "      <th>1</th>\n",
       "      <td>V006_79_0_00_03_03_12_0_c31_20201117_0337_S01_...</td>\n",
       "      <td>0</td>\n",
       "      <td>12</td>\n",
       "      <td>0</td>\n",
       "    </tr>\n",
       "    <tr>\n",
       "      <th>2</th>\n",
       "      <td>V006_79_0_00_03_03_12_0_b07_20201109_0332_S01_...</td>\n",
       "      <td>0</td>\n",
       "      <td>12</td>\n",
       "      <td>0</td>\n",
       "    </tr>\n",
       "    <tr>\n",
       "      <th>3</th>\n",
       "      <td>V006_79_0_00_03_03_12_0_c15_20201208_V006_79_0...</td>\n",
       "      <td>0</td>\n",
       "      <td>12</td>\n",
       "      <td>0</td>\n",
       "    </tr>\n",
       "    <tr>\n",
       "      <th>4</th>\n",
       "      <td>V006_79_0_00_03_03_12_0_b06_20201106_0064_S01_...</td>\n",
       "      <td>0</td>\n",
       "      <td>12</td>\n",
       "      <td>0</td>\n",
       "    </tr>\n",
       "  </tbody>\n",
       "</table>\n",
       "</div>"
      ],
      "text/plain": [
       "                                          image_name  disease  grow  risk\n",
       "0  V006_79_0_00_03_03_12_0_c31_20201117_0392_S01_...        0    12     0\n",
       "1  V006_79_0_00_03_03_12_0_c31_20201117_0337_S01_...        0    12     0\n",
       "2  V006_79_0_00_03_03_12_0_b07_20201109_0332_S01_...        0    12     0\n",
       "3  V006_79_0_00_03_03_12_0_c15_20201208_V006_79_0...        0    12     0\n",
       "4  V006_79_0_00_03_03_12_0_b06_20201106_0064_S01_...        0    12     0"
      ]
     },
     "execution_count": 32,
     "metadata": {},
     "output_type": "execute_result"
    }
   ],
   "source": [
    "df.head(5)"
   ]
  },
  {
   "cell_type": "markdown",
   "id": "9413bc6b-851a-44f4-a2a4-ff783b995e44",
   "metadata": {
    "tags": []
   },
   "source": [
    "## 총 데이터 수"
   ]
  },
  {
   "cell_type": "code",
   "execution_count": 33,
   "id": "ffaed7df-62c2-4d71-8889-51456dad253a",
   "metadata": {},
   "outputs": [
    {
     "data": {
      "text/plain": [
       "(9318, 4)"
      ]
     },
     "execution_count": 33,
     "metadata": {},
     "output_type": "execute_result"
    }
   ],
   "source": [
    "df.shape"
   ]
  },
  {
   "cell_type": "markdown",
   "id": "0f368ade-d4ae-4459-82b0-61403ae51fa9",
   "metadata": {
    "tags": []
   },
   "source": [
    "## 질병 분포 (5 : 배추검음썩음병 , 6 : 배추노균병)"
   ]
  },
  {
   "cell_type": "code",
   "execution_count": 37,
   "id": "db5673cc-6557-4223-b034-79589e204afb",
   "metadata": {},
   "outputs": [
    {
     "data": {
      "text/plain": [
       "<AxesSubplot:xlabel='disease', ylabel='disease'>"
      ]
     },
     "execution_count": 37,
     "metadata": {},
     "output_type": "execute_result"
    },
    {
     "data": {
      "image/png": "[encoded data removed]",
      "text/plain": [
       "<Figure size 864x432 with 1 Axes>"
      ]
     },
     "metadata": {},
     "output_type": "display_data"
    }
   ],
   "source": [
    "sns.barplot(data=df,\n",
    "  x=\"disease\",\n",
    "  y=\"disease\",\n",
    "  estimator=len)"
   ]
  },
  {
   "cell_type": "markdown",
   "id": "f929f244-7b99-446f-bfaf-4294b67c846d",
   "metadata": {
    "tags": []
   },
   "source": [
    "## 생육단계 분포 (11 : 육묘기 , 12 : 생장기 , 13 : 착화/과실기)"
   ]
  },
  {
   "cell_type": "code",
   "execution_count": 35,
   "id": "d0bb54cf-ed77-4afd-8a3b-e355ca64fb3c",
   "metadata": {},
   "outputs": [
    {
     "data": {
      "text/plain": [
       "<AxesSubplot:xlabel='grow', ylabel='grow'>"
      ]
     },
     "execution_count": 35,
     "metadata": {},
     "output_type": "execute_result"
    },
    {
     "data": {
      "image/png": "[encoded data removed]",
      "text/plain": [
       "<Figure size 864x432 with 1 Axes>"
      ]
     },
     "metadata": {},
     "output_type": "display_data"
    }
   ],
   "source": [
    "sns.barplot(data=df,\n",
    "  x=\"grow\",\n",
    "  y=\"grow\",\n",
    "  estimator=len)"
   ]
  },
  {
   "cell_type": "markdown",
   "id": "fc557d84-ed38-4844-a359-728ac11c3948",
   "metadata": {
    "tags": []
   },
   "source": [
    "## 질병 피해 정도 분포 ( 0 : 정상 , 1 : 초기 , 2 : 중기 , 3 : 말기 )"
   ]
  },
  {
   "cell_type": "code",
   "execution_count": 36,
   "id": "a713f195-006d-405d-b31d-b7066fc12d7f",
   "metadata": {},
   "outputs": [
    {
     "data": {
      "text/plain": [
       "<AxesSubplot:xlabel='risk', ylabel='risk'>"
      ]
     },
     "execution_count": 36,
     "metadata": {},
     "output_type": "execute_result"
    },
    {
     "data": {
      "image/png": "[encoded data removed]",
      "text/plain": [
       "<Figure size 864x432 with 1 Axes>"
      ]
     },
     "metadata": {},
     "output_type": "display_data"
    }
   ],
   "source": [
    "sns.barplot(data=df,\n",
    "  x=\"risk\",\n",
    "  y=\"risk\",\n",
    "  estimator=len)"
   ]
  },
  {
   "cell_type": "code",
   "execution_count": null,
   "id": "8b20a2a4-16cd-4036-8555-b5f39589ca5b",
   "metadata": {},
   "outputs": [],
   "source": []
  }
 ],
 "metadata": {
  "kernelspec": {
   "display_name": "Python 3 (ipykernel)",
   "language": "python",
   "name": "python3"
  },
  "language_info": {
   "codemirror_mode": {
    "name": "ipython",
    "version": 3
   },
   "file_extension": ".py",
   "mimetype": "text/x-python",
   "name": "python",
   "nbconvert_exporter": "python",
   "pygments_lexer": "ipython3",
   "version": "3.8.5"
  }
 },
 "nbformat": 4,
 "nbformat_minor": 5
}
