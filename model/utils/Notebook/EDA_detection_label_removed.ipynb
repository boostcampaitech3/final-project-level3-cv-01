{
 "cells": [
  {
   "cell_type": "markdown",
   "id": "8179c4a4-fb62-42dc-adc2-03759fe1c0a0",
   "metadata": {
    "tags": []
   },
   "source": [
    "# 학습 데이터 EDA ( 원본 )"
   ]
  },
  {
   "cell_type": "code",
   "execution_count": 14,
   "id": "ec290210-e4c3-4feb-981b-71325022e485",
   "metadata": {},
   "outputs": [],
   "source": [
    "import json\n",
    "import os\n",
    "import pandas as pd\n",
    "\n",
    "\n",
    "\n",
    "json_file_pathes = '/opt/ml/input/Project/bug_data/Training/label' # label json 폴더 경로\n",
    "json_file_names = os.listdir(json_file_pathes)\n",
    "\n",
    "bug_data = []\n",
    "meta_data = []\n",
    "\n",
    "for file in json_file_names:\n",
    "    with open(os.path.join(json_file_pathes,file)) as f:\n",
    "        json_object = json.load(f)\n",
    "    \n",
    "    fname = json_object['description']['image']\n",
    "    crop = json_object['annotations']['crop']\n",
    "    risk = json_object['annotations']['risk']\n",
    "    object_list = json_object['annotations']['object']\n",
    "    for object_one in object_list:\n",
    "        bug_data.append([fname, object_one['class']])\n",
    "    \n",
    "    meta_data.append([fname,crop,risk])\n",
    "\n",
    "bug_df = pd.DataFrame(bug_data,\n",
    "                        columns = ['image_name','bug'])\n",
    "\n",
    "meta_df = pd.DataFrame(meta_data,columns=['image_name','crop','risk'])\n",
    "    "
   ]
  },
  {
   "cell_type": "code",
   "execution_count": 15,
   "id": "af7995db-9a24-4a42-96e7-ea7aa32824fb",
   "metadata": {},
   "outputs": [
    {
     "data": {
      "text/html": [
       "<div>\n",
       "<style scoped>\n",
       "    .dataframe tbody tr th:only-of-type {\n",
       "        vertical-align: middle;\n",
       "    }\n",
       "\n",
       "    .dataframe tbody tr th {\n",
       "        vertical-align: top;\n",
       "    }\n",
       "\n",
       "    .dataframe thead th {\n",
       "        text-align: right;\n",
       "    }\n",
       "</style>\n",
       "<table border=\"1\" class=\"dataframe\">\n",
       "  <thead>\n",
       "    <tr style=\"text-align: right;\">\n",
       "      <th></th>\n",
       "      <th>image_name</th>\n",
       "      <th>crop</th>\n",
       "      <th>risk</th>\n",
       "    </tr>\n",
       "  </thead>\n",
       "  <tbody>\n",
       "    <tr>\n",
       "      <th>0</th>\n",
       "      <td>V006_78_2_11_05_07_31_0_6607q_20200928_138.jpg</td>\n",
       "      <td>5</td>\n",
       "      <td>0</td>\n",
       "    </tr>\n",
       "    <tr>\n",
       "      <th>1</th>\n",
       "      <td>V006_78_2_15_05_07_33_1_2678e_20201021_245_a00...</td>\n",
       "      <td>5</td>\n",
       "      <td>1</td>\n",
       "    </tr>\n",
       "    <tr>\n",
       "      <th>2</th>\n",
       "      <td>V006_78_2_10_05_07_33_0_5041t_20201027_189_a00...</td>\n",
       "      <td>5</td>\n",
       "      <td>0</td>\n",
       "    </tr>\n",
       "    <tr>\n",
       "      <th>3</th>\n",
       "      <td>V006_78_2_15_05_04_33_1_0071q_20201010_180_a00...</td>\n",
       "      <td>5</td>\n",
       "      <td>1</td>\n",
       "    </tr>\n",
       "    <tr>\n",
       "      <th>4</th>\n",
       "      <td>V006_78_2_11_05_07_32_2_2578t_20201013_23_a000...</td>\n",
       "      <td>5</td>\n",
       "      <td>2</td>\n",
       "    </tr>\n",
       "  </tbody>\n",
       "</table>\n",
       "</div>"
      ],
      "text/plain": [
       "                                          image_name  crop  risk\n",
       "0     V006_78_2_11_05_07_31_0_6607q_20200928_138.jpg     5     0\n",
       "1  V006_78_2_15_05_07_33_1_2678e_20201021_245_a00...     5     1\n",
       "2  V006_78_2_10_05_07_33_0_5041t_20201027_189_a00...     5     0\n",
       "3  V006_78_2_15_05_04_33_1_0071q_20201010_180_a00...     5     1\n",
       "4  V006_78_2_11_05_07_32_2_2578t_20201013_23_a000...     5     2"
      ]
     },
     "execution_count": 15,
     "metadata": {},
     "output_type": "execute_result"
    }
   ],
   "source": [
    "bug_df.head(5)\n",
    "meta_df.head(5)"
   ]
  },
  {
   "cell_type": "markdown",
   "id": "d85a7303-ea6f-459f-b48b-2ebd90c5812d",
   "metadata": {
    "tags": []
   },
   "source": [
    "## 총 데이터 수"
   ]
  },
  {
   "cell_type": "code",
   "execution_count": 16,
   "id": "efa38c09-f6a7-4085-ae71-480f71c6fa3a",
   "metadata": {},
   "outputs": [
    {
     "name": "stdout",
     "output_type": "stream",
     "text": [
      "(127340, 2)\n",
      "(109945, 3)\n"
     ]
    }
   ],
   "source": [
    "print(bug_df.shape)\n",
    "print(meta_df.shape)"
   ]
  },
  {
   "cell_type": "markdown",
   "id": "70972237-3e4d-4c33-9be3-161035dd5545",
   "metadata": {
    "tags": []
   },
   "source": [
    "## 작물 분포 (5 : 배추)"
   ]
  },
  {
   "cell_type": "code",
   "execution_count": 17,
   "id": "27d8f5c8-8c50-4564-9080-94a61164a5e9",
   "metadata": {},
   "outputs": [
    {
     "data": {
      "text/plain": [
       "<AxesSubplot:xlabel='crop', ylabel='crop'>"
      ]
     },
     "execution_count": 17,
     "metadata": {},
     "output_type": "execute_result"
    },
    {
     "data": {
      "image/png": "[encoded data removed]",
      "text/plain": [
       "<Figure size 864x432 with 1 Axes>"
      ]
     },
     "metadata": {},
     "output_type": "display_data"
    }
   ],
   "source": [
    "import matplotlib.pyplot as plt\n",
    "import seaborn as sns\n",
    "\n",
    "sns.set(rc = {'figure.figsize':(12,6)})\n",
    "\n",
    "sns.barplot(data=meta_df,\n",
    "  x=\"crop\",\n",
    "  y=\"crop\",\n",
    "  estimator=len)\n",
    "\n"
   ]
  },
  {
   "cell_type": "markdown",
   "id": "43d2df42-e420-484d-bc38-c44aaf8d0b9f",
   "metadata": {
    "tags": []
   },
   "source": [
    "# 질병 피해 정도 분포 ( 0 : 정상 , 1 : 초기 , 2 : 중기 , 3 : 말기 )"
   ]
  },
  {
   "cell_type": "code",
   "execution_count": 18,
   "id": "ca1c3c40-8d74-4b7e-8f90-e02340a8b91f",
   "metadata": {},
   "outputs": [
    {
     "data": {
      "text/plain": [
       "<AxesSubplot:xlabel='risk', ylabel='risk'>"
      ]
     },
     "execution_count": 18,
     "metadata": {},
     "output_type": "execute_result"
    },
    {
     "data": {
      "image/png": "[encoded data removed]",
      "text/plain": [
       "<Figure size 864x432 with 1 Axes>"
      ]
     },
     "metadata": {},
     "output_type": "display_data"
    }
   ],
   "source": [
    "sns.barplot(data=meta_df,\n",
    "  x=\"risk\",\n",
    "  y=\"risk\",\n",
    "  estimator=len)"
   ]
  },
  {
   "cell_type": "markdown",
   "id": "90e04df7-3f1d-463b-9865-38b21afc9f6d",
   "metadata": {},
   "source": [
    "## 벌레 분포 ( 0 : 정상 , 10 : 배추좀벌레 , 11 : 배추 흰나비 , 12 : 벼룩잎벌레 , 15 : 비단노린재)"
   ]
  },
  {
   "cell_type": "code",
   "execution_count": 19,
   "id": "881b2c46-7842-4911-8e1b-109602314a1b",
   "metadata": {},
   "outputs": [
    {
     "data": {
      "text/plain": [
       "<AxesSubplot:xlabel='bug', ylabel='bug'>"
      ]
     },
     "execution_count": 19,
     "metadata": {},
     "output_type": "execute_result"
    },
    {
     "data": {
      "image/png": "[encoded data removed]",
      "text/plain": [
       "<Figure size 864x432 with 1 Axes>"
      ]
     },
     "metadata": {},
     "output_type": "display_data"
    }
   ],
   "source": [
    "sns.barplot(data=bug_df,\n",
    "  x=\"bug\",\n",
    "  y=\"bug\",\n",
    "  estimator=len)"
   ]
  },
  {
   "cell_type": "markdown",
   "id": "e804ddb1-b84d-40a4-88d9-3c18831b0fed",
   "metadata": {
    "tags": []
   },
   "source": [
    "# Validation 데이터 EDA ( 원본 )"
   ]
  },
  {
   "cell_type": "code",
   "execution_count": 20,
   "id": "6c6c9699-19e4-471f-9045-8e75cd11d3d6",
   "metadata": {},
   "outputs": [],
   "source": [
    "import json\n",
    "import os\n",
    "import pandas as pd\n",
    "\n",
    "\n",
    "\n",
    "json_file_pathes = '/opt/ml/input/Project/bug_data/Validation/label' # label json 폴더 경로\n",
    "json_file_names = os.listdir(json_file_pathes)\n",
    "\n",
    "bug_data = []\n",
    "meta_data = []\n",
    "\n",
    "for file in json_file_names:\n",
    "    with open(os.path.join(json_file_pathes,file)) as f:\n",
    "        json_object = json.load(f)\n",
    "\n",
    "    fname = json_object['description']['image']\n",
    "    crop = json_object['annotations']['crop']\n",
    "    risk = json_object['annotations']['risk']\n",
    "    object_list = json_object['annotations']['object']\n",
    "    for object_one in object_list:\n",
    "        bug_data.append([fname, object_one['class']])\n",
    "    \n",
    "    meta_data.append([fname,crop,risk])\n",
    "\n",
    "bug_df = pd.DataFrame(bug_data,\n",
    "                        columns = ['image_name','bug'])\n",
    "\n",
    "meta_df = pd.DataFrame(meta_data,columns=['image_name','crop','risk'])\n",
    "    "
   ]
  },
  {
   "cell_type": "code",
   "execution_count": 9,
   "id": "80060f85-9d69-4244-b74b-711a776eb9f3",
   "metadata": {},
   "outputs": [
    {
     "data": {
      "text/html": [
       "<div>\n",
       "<style scoped>\n",
       "    .dataframe tbody tr th:only-of-type {\n",
       "        vertical-align: middle;\n",
       "    }\n",
       "\n",
       "    .dataframe tbody tr th {\n",
       "        vertical-align: top;\n",
       "    }\n",
       "\n",
       "    .dataframe thead th {\n",
       "        text-align: right;\n",
       "    }\n",
       "</style>\n",
       "<table border=\"1\" class=\"dataframe\">\n",
       "  <thead>\n",
       "    <tr style=\"text-align: right;\">\n",
       "      <th></th>\n",
       "      <th>image_name</th>\n",
       "      <th>crop</th>\n",
       "      <th>risk</th>\n",
       "    </tr>\n",
       "  </thead>\n",
       "  <tbody>\n",
       "    <tr>\n",
       "      <th>0</th>\n",
       "      <td>V006_78_3_11_05_03_12_2_8376w_20201012_1066_a0...</td>\n",
       "      <td>5</td>\n",
       "      <td>2</td>\n",
       "    </tr>\n",
       "    <tr>\n",
       "      <th>1</th>\n",
       "      <td>V006_78_2_10_05_07_32_0_4669q_20201207_18_a000...</td>\n",
       "      <td>5</td>\n",
       "      <td>0</td>\n",
       "    </tr>\n",
       "    <tr>\n",
       "      <th>2</th>\n",
       "      <td>V006_78_2_11_05_07_32_1_9198e_20201115_8_a0006...</td>\n",
       "      <td>5</td>\n",
       "      <td>1</td>\n",
       "    </tr>\n",
       "    <tr>\n",
       "      <th>3</th>\n",
       "      <td>V006_78_2_11_05_07_32_1_9198e_20201117_3_a0007...</td>\n",
       "      <td>5</td>\n",
       "      <td>1</td>\n",
       "    </tr>\n",
       "    <tr>\n",
       "      <th>4</th>\n",
       "      <td>V006_78_2_10_05_07_32_0_9747q_20201207_59_a000...</td>\n",
       "      <td>5</td>\n",
       "      <td>0</td>\n",
       "    </tr>\n",
       "  </tbody>\n",
       "</table>\n",
       "</div>"
      ],
      "text/plain": [
       "                                          image_name  crop  risk\n",
       "0  V006_78_3_11_05_03_12_2_8376w_20201012_1066_a0...     5     2\n",
       "1  V006_78_2_10_05_07_32_0_4669q_20201207_18_a000...     5     0\n",
       "2  V006_78_2_11_05_07_32_1_9198e_20201115_8_a0006...     5     1\n",
       "3  V006_78_2_11_05_07_32_1_9198e_20201117_3_a0007...     5     1\n",
       "4  V006_78_2_10_05_07_32_0_9747q_20201207_59_a000...     5     0"
      ]
     },
     "execution_count": 9,
     "metadata": {},
     "output_type": "execute_result"
    }
   ],
   "source": [
    "bug_df.head(5)\n",
    "meta_df.head(5)"
   ]
  },
  {
   "cell_type": "markdown",
   "id": "9413bc6b-851a-44f4-a2a4-ff783b995e44",
   "metadata": {
    "tags": []
   },
   "source": [
    "## 총 데이터 수"
   ]
  },
  {
   "cell_type": "code",
   "execution_count": 10,
   "id": "ffaed7df-62c2-4d71-8889-51456dad253a",
   "metadata": {},
   "outputs": [
    {
     "name": "stdout",
     "output_type": "stream",
     "text": [
      "(2904, 2)\n",
      "(2783, 3)\n"
     ]
    }
   ],
   "source": [
    "print(bug_df.shape)\n",
    "print(meta_df.shape)"
   ]
  },
  {
   "cell_type": "markdown",
   "id": "0f368ade-d4ae-4459-82b0-61403ae51fa9",
   "metadata": {
    "tags": []
   },
   "source": [
    "## 작물 분포 (5 : 배추)"
   ]
  },
  {
   "cell_type": "code",
   "execution_count": 11,
   "id": "db5673cc-6557-4223-b034-79589e204afb",
   "metadata": {},
   "outputs": [
    {
     "data": {
      "text/plain": [
       "<AxesSubplot:xlabel='crop', ylabel='crop'>"
      ]
     },
     "execution_count": 11,
     "metadata": {},
     "output_type": "execute_result"
    },
    {
     "data": {
      "image/png": "[encoded data removed]",
      "text/plain": [
       "<Figure size 864x432 with 1 Axes>"
      ]
     },
     "metadata": {},
     "output_type": "display_data"
    }
   ],
   "source": [
    "import matplotlib.pyplot as plt\n",
    "import seaborn as sns\n",
    "\n",
    "sns.set(rc = {'figure.figsize':(12,6)})\n",
    "\n",
    "sns.barplot(data=meta_df,\n",
    "  x=\"crop\",\n",
    "  y=\"crop\",\n",
    "  estimator=len)\n",
    "\n"
   ]
  },
  {
   "cell_type": "markdown",
   "id": "f929f244-7b99-446f-bfaf-4294b67c846d",
   "metadata": {
    "tags": []
   },
   "source": [
    "# 질병 피해 정도 분포 ( 0 : 정상 , 1 : 초기 , 2 : 중기 , 3 : 말기 )"
   ]
  },
  {
   "cell_type": "code",
   "execution_count": 12,
   "id": "d0bb54cf-ed77-4afd-8a3b-e355ca64fb3c",
   "metadata": {},
   "outputs": [
    {
     "data": {
      "text/plain": [
       "<AxesSubplot:xlabel='risk', ylabel='risk'>"
      ]
     },
     "execution_count": 12,
     "metadata": {},
     "output_type": "execute_result"
    },
    {
     "data": {
      "image/png": "[encoded data removed]",
      "text/plain": [
       "<Figure size 864x432 with 1 Axes>"
      ]
     },
     "metadata": {},
     "output_type": "display_data"
    }
   ],
   "source": [
    "sns.barplot(data=meta_df,\n",
    "  x=\"risk\",\n",
    "  y=\"risk\",\n",
    "  estimator=len)"
   ]
  },
  {
   "cell_type": "markdown",
   "id": "fc557d84-ed38-4844-a359-728ac11c3948",
   "metadata": {
    "tags": []
   },
   "source": [
    "## 벌레 분포 (10 : 배추좀나방 11 : 배추흰나비 12 : 벼룩잎벌레 15 : 비단노린재 )"
   ]
  },
  {
   "cell_type": "code",
   "execution_count": 13,
   "id": "a713f195-006d-405d-b31d-b7066fc12d7f",
   "metadata": {},
   "outputs": [
    {
     "data": {
      "text/plain": [
       "<AxesSubplot:xlabel='bug', ylabel='bug'>"
      ]
     },
     "execution_count": 13,
     "metadata": {},
     "output_type": "execute_result"
    },
    {
     "data": {
      "image/png": "[encoded data removed]",
      "text/plain": [
       "<Figure size 864x432 with 1 Axes>"
      ]
     },
     "metadata": {},
     "output_type": "display_data"
    }
   ],
   "source": [
    "sns.barplot(data=bug_df,\n",
    "  x=\"bug\",\n",
    "  y=\"bug\",\n",
    "  estimator=len)"
   ]
  },
  {
   "cell_type": "code",
   "execution_count": null,
   "id": "8b20a2a4-16cd-4036-8555-b5f39589ca5b",
   "metadata": {},
   "outputs": [],
   "source": []
  }
 ],
 "metadata": {
  "kernelspec": {
   "display_name": "Python 3 (ipykernel)",
   "language": "python",
   "name": "python3"
  },
  "language_info": {
   "codemirror_mode": {
    "name": "ipython",
    "version": 3
   },
   "file_extension": ".py",
   "mimetype": "text/x-python",
   "name": "python",
   "nbconvert_exporter": "python",
   "pygments_lexer": "ipython3",
   "version": "3.8.5"
  }
 },
 "nbformat": 4,
 "nbformat_minor": 5
}
