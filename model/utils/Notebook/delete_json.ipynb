{
 "cells": [
  {
   "cell_type": "code",
   "execution_count": 35,
   "id": "89c09d13-5290-485d-90dc-bdef3a2ac8db",
   "metadata": {
    "tags": []
   },
   "outputs": [],
   "source": [
    "import json\n",
    "import os\n",
    "import pandas as pd\n",
    "\n",
    "bugs = [0,10,11,12,15]\n",
    "\n",
    "image_file_pathes = '/opt/ml/input/Project/bug_data/Training/image'\n",
    "json_file_pathes = '/opt/ml/input/Project/bug_data/Training/label' # label json 폴더 경로\n",
    "json_file_names = os.listdir(json_file_pathes)\n",
    "\n",
    "\n",
    "for file in json_file_names:\n",
    "    with open(os.path.join(json_file_pathes,file)) as f:\n",
    "        json_object = json.load(f)\n",
    "    check = False\n",
    "        \n",
    "        \n",
    "    fname = json_object['description']['image']\n",
    "    new_object_list = []\n",
    "    object_list = json_object['annotations']['object']\n",
    "    \n",
    "\n",
    "    \n",
    "    for object_one in object_list:\n",
    "        if object_one['class'] in bugs:\n",
    "            new_object_list.append(object_one)\n",
    "            \n",
    "    if new_object_list:\n",
    "        json_object['annotations']['object'] = new_object_list\n",
    "        \n",
    "        with open(os.path.join(json_file_pathes,file), 'w') as outfile:\n",
    "            json.dump(json_object,outfile)\n",
    "    else:\n",
    "        try:\n",
    "            os.remove(os.path.join(image_file_pathes,fname))\n",
    "        except:\n",
    "            pass\n",
    "        os.remove(os.path.join(json_file_pathes,file))\n",
    "        \n",
    "\n",
    "    \n",
    "            \n",
    "    \n"
   ]
  },
  {
   "cell_type": "code",
   "execution_count": null,
   "id": "cce2c5fc-c15b-4532-a8b7-58f430e22e52",
   "metadata": {},
   "outputs": [],
   "source": []
  }
 ],
 "metadata": {
  "kernelspec": {
   "display_name": "Python 3 (ipykernel)",
   "language": "python",
   "name": "python3"
  },
  "language_info": {
   "codemirror_mode": {
    "name": "ipython",
    "version": 3
   },
   "file_extension": ".py",
   "mimetype": "text/x-python",
   "name": "python",
   "nbconvert_exporter": "python",
   "pygments_lexer": "ipython3",
   "version": "3.8.5"
  }
 },
 "nbformat": 4,
 "nbformat_minor": 5
}
